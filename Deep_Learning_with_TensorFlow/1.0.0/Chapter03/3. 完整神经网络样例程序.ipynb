{
 "cells": [
  {
   "cell_type": "code",
   "execution_count": 1,
   "metadata": {
    "collapsed": true
   },
   "outputs": [],
   "source": [
    "import tensorflow as tf\n",
    "from numpy.random import RandomState"
   ]
  },
  {
   "cell_type": "markdown",
   "metadata": {},
   "source": [
    "#### 1. 定义神经网络的参数，输入和输出节点。"
   ]
  },
  {
   "cell_type": "code",
   "execution_count": 2,
   "metadata": {
    "collapsed": false
   },
   "outputs": [],
   "source": [
    "batch_size = 8\n",
    "w1= tf.Variable(tf.random_normal([2, 3], stddev=1, seed=1))\n",
    "w2= tf.Variable(tf.random_normal([3, 1], stddev=1, seed=1))\n",
    "x = tf.placeholder(tf.float32, shape=(None, 2), name=\"x-input\")\n",
    "y_= tf.placeholder(tf.float32, shape=(None, 1), name='y-input')"
   ]
  },
  {
   "cell_type": "markdown",
   "metadata": {},
   "source": [
    "#### 2. 定义前向传播过程，损失函数及反向传播算法。"
   ]
  },
  {
   "cell_type": "code",
   "execution_count": 17,
   "metadata": {
    "collapsed": false
   },
   "outputs": [],
   "source": [
    "a = tf.matmul(x, w1)\n",
    "y = tf.matmul(a, w2)\n",
    "cross_entropy = -tf.reduce_mean(y_ * tf.log(tf.clip_by_value(y, 1e-10, 1.0))) \n",
    "#train_step = tf.train.AdamOptimizer(0.001).minimize(cross_entropy)\n",
    "train_step = tf.train.MomentumOptimizer(0.001, 0.9).minimize(cross_entropy)"
   ]
  },
  {
   "cell_type": "markdown",
   "metadata": {},
   "source": [
    "####  3. 生成模拟数据集。"
   ]
  },
  {
   "cell_type": "code",
   "execution_count": 18,
   "metadata": {
    "collapsed": false
   },
   "outputs": [],
   "source": [
    "rdm = RandomState(1)\n",
    "X = rdm.rand(128,2)\n",
    "Y = [[int(x1+x2 < 1)] for (x1, x2) in X]\n",
    "#Y = [[int((x1>0.5 and x2<0.5) or (x1<0.5 and x2>0.5))] for (x1, x2) in X] # XOR problem"
   ]
  },
  {
   "cell_type": "markdown",
   "metadata": {},
   "source": [
    "#### 4. 创建一个会话来运行TensorFlow程序。"
   ]
  },
  {
   "cell_type": "code",
   "execution_count": 19,
   "metadata": {
    "collapsed": false
   },
   "outputs": [
    {
     "name": "stdout",
     "output_type": "stream",
     "text": [
      "w1: [[-0.81131822  1.48459876  0.06532937]\n",
      " [-2.44270396  0.0992484   0.59122431]]\n",
      "w2: [[-0.81131822]\n",
      " [ 1.48459876]\n",
      " [ 0.06532937]]\n",
      "\n",
      "\n",
      "After 0 training step(s), cross entropy on all data is 0.0677127\n",
      "After 1000 training step(s), cross entropy on all data is 0.0299578\n",
      "After 2000 training step(s), cross entropy on all data is 0.0226611\n",
      "After 3000 training step(s), cross entropy on all data is 0.0178286\n",
      "After 4000 training step(s), cross entropy on all data is 0.0143322\n",
      "After 5000 training step(s), cross entropy on all data is 0.0126648\n",
      "\n",
      "\n",
      "w1: [[-1.14575207  1.92321956  0.10790702]\n",
      " [-2.79358888  0.57150626  0.63480961]]\n",
      "w2: [[-1.77612603]\n",
      " [ 2.00361943]\n",
      " [ 0.25553519]]\n"
     ]
    }
   ],
   "source": [
    "with tf.Session() as sess:\n",
    "    init_op = tf.global_variables_initializer()\n",
    "    sess.run(init_op)\n",
    "    \n",
    "    # 输出目前（未经训练）的参数取值。\n",
    "    print \"w1:\", sess.run(w1)\n",
    "    print \"w2:\", sess.run(w2)\n",
    "    print \"\\n\"\n",
    "    \n",
    "    # 训练模型。\n",
    "    STEPS = 5001\n",
    "    for i in range(STEPS):\n",
    "        start = (i*batch_size) % 128\n",
    "        end = (i*batch_size) % 128 + batch_size\n",
    "        sess.run(train_step, feed_dict={x: X[start:end], y_: Y[start:end]})\n",
    "        if i % 1000 == 0:\n",
    "            total_cross_entropy = sess.run(cross_entropy, feed_dict={x: X, y_: Y})\n",
    "            print(\"After %d training step(s), cross entropy on all data is %g\" % (i, total_cross_entropy))\n",
    "    \n",
    "    # 输出训练后的参数取值。\n",
    "    print \"\\n\"\n",
    "    print \"w1:\", sess.run(w1)\n",
    "    print \"w2:\", sess.run(w2)"
   ]
  },
  {
   "cell_type": "code",
   "execution_count": 15,
   "metadata": {
    "collapsed": false
   },
   "outputs": [],
   "source": [
    "tf.train.MomentumOptimizer?"
   ]
  },
  {
   "cell_type": "code",
   "execution_count": 9,
   "metadata": {
    "collapsed": false
   },
   "outputs": [
    {
     "data": {
      "text/plain": [
       "array([[  4.17022005e-01,   7.20324493e-01],\n",
       "       [  1.14374817e-04,   3.02332573e-01],\n",
       "       [  1.46755891e-01,   9.23385948e-02],\n",
       "       [  1.86260211e-01,   3.45560727e-01],\n",
       "       [  3.96767474e-01,   5.38816734e-01],\n",
       "       [  4.19194514e-01,   6.85219500e-01],\n",
       "       [  2.04452250e-01,   8.78117436e-01],\n",
       "       [  2.73875932e-02,   6.70467510e-01],\n",
       "       [  4.17304802e-01,   5.58689828e-01],\n",
       "       [  1.40386939e-01,   1.98101489e-01],\n",
       "       [  8.00744569e-01,   9.68261576e-01],\n",
       "       [  3.13424178e-01,   6.92322616e-01],\n",
       "       [  8.76389152e-01,   8.94606664e-01],\n",
       "       [  8.50442114e-02,   3.90547832e-02],\n",
       "       [  1.69830420e-01,   8.78142503e-01],\n",
       "       [  9.83468338e-02,   4.21107625e-01],\n",
       "       [  9.57889530e-01,   5.33165285e-01],\n",
       "       [  6.91877114e-01,   3.15515631e-01],\n",
       "       [  6.86500928e-01,   8.34625672e-01],\n",
       "       [  1.82882773e-02,   7.50144315e-01]])"
      ]
     },
     "execution_count": 9,
     "metadata": {},
     "output_type": "execute_result"
    }
   ],
   "source": [
    "X[:20]"
   ]
  },
  {
   "cell_type": "code",
   "execution_count": null,
   "metadata": {
    "collapsed": true
   },
   "outputs": [],
   "source": []
  }
 ],
 "metadata": {
  "kernelspec": {
   "display_name": "Python 2",
   "language": "python",
   "name": "python2"
  },
  "language_info": {
   "codemirror_mode": {
    "name": "ipython",
    "version": 2
   },
   "file_extension": ".py",
   "mimetype": "text/x-python",
   "name": "python",
   "nbconvert_exporter": "python",
   "pygments_lexer": "ipython2",
   "version": "2.7.13"
  }
 },
 "nbformat": 4,
 "nbformat_minor": 1
}
